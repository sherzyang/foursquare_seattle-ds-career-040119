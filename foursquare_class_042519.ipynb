{
 "cells": [
  {
   "cell_type": "code",
   "execution_count": 19,
   "metadata": {},
   "outputs": [],
   "source": [
    "import json\n",
    "import requests\n",
    "\n",
    "# Load secrets from credentials.json\n",
    "url = 'https://api.foursquare.com/v2/venues/explore'\n",
    "with open('.secrets/credentials.json') as f:\n",
    "    params = json.load(f)"
   ]
  },
  {
   "cell_type": "code",
   "execution_count": 20,
   "metadata": {},
   "outputs": [],
   "source": [
    "params['v'] = '20180323'\n",
    "params['ll'] = '47.608,-122.336', #area from which we are searching\n",
    "params['query'] = 'yoga',\n",
    "params['intent'] = 'browse',\n",
    "params['radius'] = 100000,\n",
    "params['limit'] = 100"
   ]
  },
  {
   "cell_type": "code",
   "execution_count": 21,
   "metadata": {},
   "outputs": [],
   "source": [
    "response = requests.get(url=url, params=params)\n",
    "data = json.loads(response.text)"
   ]
  },
  {
   "cell_type": "code",
   "execution_count": 22,
   "metadata": {},
   "outputs": [
    {
     "data": {
      "text/plain": [
       "dict_keys(['meta', 'response'])"
      ]
     },
     "execution_count": 22,
     "metadata": {},
     "output_type": "execute_result"
    }
   ],
   "source": [
    "data.keys()"
   ]
  },
  {
   "cell_type": "code",
   "execution_count": 23,
   "metadata": {},
   "outputs": [
    {
     "data": {
      "text/plain": [
       "{'code': 200, 'requestId': '5cc21cbebf7dde002c1f1009'}"
      ]
     },
     "execution_count": 23,
     "metadata": {},
     "output_type": "execute_result"
    }
   ],
   "source": [
    "data['meta']"
   ]
  },
  {
   "cell_type": "code",
   "execution_count": 24,
   "metadata": {},
   "outputs": [
    {
     "data": {
      "text/plain": [
       "dict_keys(['suggestedFilters', 'headerLocation', 'headerFullLocation', 'headerLocationGranularity', 'query', 'totalResults', 'suggestedBounds', 'groups'])"
      ]
     },
     "execution_count": 24,
     "metadata": {},
     "output_type": "execute_result"
    }
   ],
   "source": [
    "data['response'].keys()"
   ]
  },
  {
   "cell_type": "code",
   "execution_count": 25,
   "metadata": {},
   "outputs": [
    {
     "data": {
      "text/plain": [
       "100"
      ]
     },
     "execution_count": 25,
     "metadata": {},
     "output_type": "execute_result"
    }
   ],
   "source": [
    "len(data['response']['groups'][0]['items'])\n",
    "#there are 49 coffee shops within the default radius of my starting location"
   ]
  },
  {
   "cell_type": "code",
   "execution_count": 26,
   "metadata": {},
   "outputs": [],
   "source": [
    "results = data['response']['groups'][0]['items']"
   ]
  },
  {
   "cell_type": "code",
   "execution_count": 36,
   "metadata": {},
   "outputs": [],
   "source": [
    "venues = []\n",
    "venue_names = []\n",
    "for result in results:\n",
    "    venues.append(result['venue'])\n",
    "    venue_names.append(result['venue']['name'])"
   ]
  },
  {
   "cell_type": "code",
   "execution_count": 37,
   "metadata": {},
   "outputs": [
    {
     "data": {
      "text/plain": [
       "100"
      ]
     },
     "execution_count": 37,
     "metadata": {},
     "output_type": "execute_result"
    }
   ],
   "source": [
    "len(venues)"
   ]
  },
  {
   "cell_type": "code",
   "execution_count": 29,
   "metadata": {},
   "outputs": [
    {
     "data": {
      "text/plain": [
       "['Seattle Bouldering Project',\n",
       " 'CorePower Yoga',\n",
       " 'The Grinning Yogi',\n",
       " 'Fusion Hot Yoga',\n",
       " 'Bala Yoga',\n",
       " 'Yogalife Queen Anne',\n",
       " 'Shefayoga',\n",
       " 'Shakti Vinyasa Yoga',\n",
       " 'Bindi Yoga',\n",
       " 'Modo Yoga',\n",
       " 'Yogabliss',\n",
       " 'ProSports Club Spa',\n",
       " 'CorePower Yoga',\n",
       " 'Get Zen Hot Yoga',\n",
       " 'Live Love Flow',\n",
       " 'Bikram Yoga',\n",
       " 'Crunch - Bellevue',\n",
       " 'Bellevue Club',\n",
       " 'Foundation CrossFit',\n",
       " 'CorePower Yoga',\n",
       " 'Bikram Hot Yoga U-District',\n",
       " 'TRIBE Fitness',\n",
       " 'Hot Yoga at Mill Creek Town Center',\n",
       " 'The Ashram Yoga',\n",
       " 'Denali Fitness',\n",
       " 'YMCA',\n",
       " 'Olympic Athletic Club',\n",
       " 'Seattle Athletic Club',\n",
       " 'Pro Sports Club',\n",
       " 'Ballard Health Club',\n",
       " 'The Seattle Gym',\n",
       " 'Hot Yoga Experience',\n",
       " 'Hot Yoga Experience',\n",
       " 'Pure 8 Hot Yoga Studio',\n",
       " 'Hot Yoga Inc. - Covington',\n",
       " \"Gold's Gym\",\n",
       " 'Fitness Evolution',\n",
       " 'YMCA',\n",
       " 'Belltown Dance Studio',\n",
       " 'Hot Yoga Inc.',\n",
       " 'iLovekickboxing.com - Kirkland',\n",
       " 'YMCA',\n",
       " 'Emerald City Athletics',\n",
       " 'barre3 Bellevue',\n",
       " 'iLoveKickboxing - Lynnwood',\n",
       " '24 Hour Fitness',\n",
       " 'Kula Movement',\n",
       " 'Banya 5',\n",
       " 'Dale Turner Family YMCA',\n",
       " 'Island Fitness',\n",
       " \"Gold's Gym\",\n",
       " 'OmCulture',\n",
       " 'Elaia Spa',\n",
       " 'YMCA',\n",
       " 'Be One Yoga',\n",
       " 'Métier',\n",
       " 'Boeing, 40-201, Activity Center',\n",
       " \"Gold's Gym\",\n",
       " 'Velocity Dance Center',\n",
       " 'Soul Fitness Club',\n",
       " 'Hot Yoga of Mill Creek',\n",
       " 'LA Fitness',\n",
       " 'Vertical World Everett',\n",
       " 'DoubleTree by Hilton Fitness Center',\n",
       " '24 Hour Fitness',\n",
       " 'Ritual House',\n",
       " 'The Samarya Center',\n",
       " 'Seattle Executive Fitness',\n",
       " 'LA Fitness',\n",
       " 'LA Fitness',\n",
       " \"Soldier's Field House\",\n",
       " 'Village Green Yoga & Eco-Boutique',\n",
       " 'Seattle Holistic Center',\n",
       " 'UniverseCity Yoga',\n",
       " 'Sutra Yoga',\n",
       " 'Community Fitness',\n",
       " 'Levitas Studio',\n",
       " 'Taj Yoga',\n",
       " 'HollyYoga',\n",
       " 'Mind & Body, Inc.',\n",
       " 'Flight Room Seattle',\n",
       " 'The Six',\n",
       " 'Lux Collective',\n",
       " 'Live Love Flow',\n",
       " 'Sangha Yoga',\n",
       " 'Elements Chiropractic & Wellness Center',\n",
       " 'Yoga On Beacon',\n",
       " 'Strala Yoga',\n",
       " 'Body Reflects',\n",
       " 'Freedom Seeker Yoga',\n",
       " 'popSUP',\n",
       " 'Shift Healing Arts & Movement',\n",
       " 'Spira Power Yoga',\n",
       " 'Bala Yoga',\n",
       " 'Maven. A Yoga Studio.',\n",
       " 'Sweat Hot Yoga',\n",
       " 'Sealevel Hot Yoga',\n",
       " 'BendnMove',\n",
       " 'The Yoga Tree',\n",
       " 'Village Yoga']"
      ]
     },
     "execution_count": 29,
     "metadata": {},
     "output_type": "execute_result"
    }
   ],
   "source": [
    "venue_names"
   ]
  },
  {
   "cell_type": "code",
   "execution_count": 38,
   "metadata": {},
   "outputs": [],
   "source": [
    "import pymongo\n",
    "mc = pymongo.MongoClient()\n",
    "db = mc['foursquare']\n",
    "coll = db['pilates']"
   ]
  },
  {
   "cell_type": "code",
   "execution_count": 39,
   "metadata": {},
   "outputs": [
    {
     "data": {
      "text/plain": [
       "<pymongo.results.InsertManyResult at 0x1194b0e48>"
      ]
     },
     "execution_count": 39,
     "metadata": {},
     "output_type": "execute_result"
    }
   ],
   "source": [
    "coll.insert_many(venues)"
   ]
  },
  {
   "cell_type": "code",
   "execution_count": 40,
   "metadata": {},
   "outputs": [],
   "source": [
    "venues = list(coll.find())"
   ]
  },
  {
   "cell_type": "code",
   "execution_count": 43,
   "metadata": {},
   "outputs": [],
   "source": [
    "import pandas as pd\n",
    "df = pd.DataFrame(venues).head().T"
   ]
  },
  {
   "cell_type": "code",
   "execution_count": 44,
   "metadata": {},
   "outputs": [
    {
     "data": {
      "text/html": [
       "<div>\n",
       "<style scoped>\n",
       "    .dataframe tbody tr th:only-of-type {\n",
       "        vertical-align: middle;\n",
       "    }\n",
       "\n",
       "    .dataframe tbody tr th {\n",
       "        vertical-align: top;\n",
       "    }\n",
       "\n",
       "    .dataframe thead th {\n",
       "        text-align: right;\n",
       "    }\n",
       "</style>\n",
       "<table border=\"1\" class=\"dataframe\">\n",
       "  <thead>\n",
       "    <tr style=\"text-align: right;\">\n",
       "      <th></th>\n",
       "      <th>0</th>\n",
       "      <th>1</th>\n",
       "      <th>2</th>\n",
       "      <th>3</th>\n",
       "      <th>4</th>\n",
       "    </tr>\n",
       "  </thead>\n",
       "  <tbody>\n",
       "    <tr>\n",
       "      <th>_id</th>\n",
       "      <td>5cc21d110e067d637ac1c58e</td>\n",
       "      <td>5cc21d110e067d637ac1c58f</td>\n",
       "      <td>5cc21d110e067d637ac1c590</td>\n",
       "      <td>5cc21d110e067d637ac1c591</td>\n",
       "      <td>5cc21d110e067d637ac1c592</td>\n",
       "    </tr>\n",
       "    <tr>\n",
       "      <th>beenHere</th>\n",
       "      <td>{'count': 0, 'lastCheckinExpiredAt': 0, 'marke...</td>\n",
       "      <td>{'count': 0, 'lastCheckinExpiredAt': 0, 'marke...</td>\n",
       "      <td>{'count': 0, 'lastCheckinExpiredAt': 0, 'marke...</td>\n",
       "      <td>{'count': 0, 'lastCheckinExpiredAt': 0, 'marke...</td>\n",
       "      <td>{'count': 0, 'lastCheckinExpiredAt': 0, 'marke...</td>\n",
       "    </tr>\n",
       "    <tr>\n",
       "      <th>categories</th>\n",
       "      <td>[{'id': '503289d391d4c4b30a586d6a', 'name': 'C...</td>\n",
       "      <td>[{'id': '4bf58dd8d48988d102941735', 'name': 'Y...</td>\n",
       "      <td>[{'id': '4bf58dd8d48988d102941735', 'name': 'Y...</td>\n",
       "      <td>[{'id': '4bf58dd8d48988d102941735', 'name': 'Y...</td>\n",
       "      <td>[{'id': '4bf58dd8d48988d102941735', 'name': 'Y...</td>\n",
       "    </tr>\n",
       "    <tr>\n",
       "      <th>contact</th>\n",
       "      <td>{}</td>\n",
       "      <td>{}</td>\n",
       "      <td>{}</td>\n",
       "      <td>{}</td>\n",
       "      <td>{}</td>\n",
       "    </tr>\n",
       "    <tr>\n",
       "      <th>hereNow</th>\n",
       "      <td>{'count': 0, 'summary': 'Nobody here', 'groups...</td>\n",
       "      <td>{'count': 0, 'summary': 'Nobody here', 'groups...</td>\n",
       "      <td>{'count': 0, 'summary': 'Nobody here', 'groups...</td>\n",
       "      <td>{'count': 0, 'summary': 'Nobody here', 'groups...</td>\n",
       "      <td>{'count': 0, 'summary': 'Nobody here', 'groups...</td>\n",
       "    </tr>\n",
       "    <tr>\n",
       "      <th>id</th>\n",
       "      <td>4d893ccf76e1236a5e480143</td>\n",
       "      <td>504b8b51e4b0838e3065d860</td>\n",
       "      <td>4fb449d4e4b0186ba35fff7c</td>\n",
       "      <td>4c3503d166e40f47278aca8b</td>\n",
       "      <td>4c41e93ace54e21effc80b1a</td>\n",
       "    </tr>\n",
       "    <tr>\n",
       "      <th>location</th>\n",
       "      <td>{'address': '900 Poplar Pl S', 'lat': 47.59350...</td>\n",
       "      <td>{'address': '1455 NW Leary Way, Suite 100', 'c...</td>\n",
       "      <td>{'address': '345 15th Ave E', 'crossStreet': '...</td>\n",
       "      <td>{'lat': 47.793150509394636, 'lng': -122.217059...</td>\n",
       "      <td>{'address': '9750 NE 119th Way', 'lat': 47.707...</td>\n",
       "    </tr>\n",
       "    <tr>\n",
       "      <th>name</th>\n",
       "      <td>Seattle Bouldering Project</td>\n",
       "      <td>CorePower Yoga</td>\n",
       "      <td>The Grinning Yogi</td>\n",
       "      <td>Fusion Hot Yoga</td>\n",
       "      <td>Bala Yoga</td>\n",
       "    </tr>\n",
       "    <tr>\n",
       "      <th>photos</th>\n",
       "      <td>{'count': 0, 'groups': []}</td>\n",
       "      <td>{'count': 0, 'groups': []}</td>\n",
       "      <td>{'count': 0, 'groups': []}</td>\n",
       "      <td>{'count': 0, 'groups': []}</td>\n",
       "      <td>{'count': 0, 'groups': []}</td>\n",
       "    </tr>\n",
       "    <tr>\n",
       "      <th>stats</th>\n",
       "      <td>{'tipCount': 0, 'usersCount': 0, 'checkinsCoun...</td>\n",
       "      <td>{'tipCount': 0, 'usersCount': 0, 'checkinsCoun...</td>\n",
       "      <td>{'tipCount': 0, 'usersCount': 0, 'checkinsCoun...</td>\n",
       "      <td>{'tipCount': 0, 'usersCount': 0, 'checkinsCoun...</td>\n",
       "      <td>{'tipCount': 0, 'usersCount': 0, 'checkinsCoun...</td>\n",
       "    </tr>\n",
       "    <tr>\n",
       "      <th>venuePage</th>\n",
       "      <td>NaN</td>\n",
       "      <td>NaN</td>\n",
       "      <td>NaN</td>\n",
       "      <td>NaN</td>\n",
       "      <td>NaN</td>\n",
       "    </tr>\n",
       "    <tr>\n",
       "      <th>verified</th>\n",
       "      <td>True</td>\n",
       "      <td>True</td>\n",
       "      <td>False</td>\n",
       "      <td>False</td>\n",
       "      <td>False</td>\n",
       "    </tr>\n",
       "  </tbody>\n",
       "</table>\n",
       "</div>"
      ],
      "text/plain": [
       "                                                            0  \\\n",
       "_id                                  5cc21d110e067d637ac1c58e   \n",
       "beenHere    {'count': 0, 'lastCheckinExpiredAt': 0, 'marke...   \n",
       "categories  [{'id': '503289d391d4c4b30a586d6a', 'name': 'C...   \n",
       "contact                                                    {}   \n",
       "hereNow     {'count': 0, 'summary': 'Nobody here', 'groups...   \n",
       "id                                   4d893ccf76e1236a5e480143   \n",
       "location    {'address': '900 Poplar Pl S', 'lat': 47.59350...   \n",
       "name                               Seattle Bouldering Project   \n",
       "photos                             {'count': 0, 'groups': []}   \n",
       "stats       {'tipCount': 0, 'usersCount': 0, 'checkinsCoun...   \n",
       "venuePage                                                 NaN   \n",
       "verified                                                 True   \n",
       "\n",
       "                                                            1  \\\n",
       "_id                                  5cc21d110e067d637ac1c58f   \n",
       "beenHere    {'count': 0, 'lastCheckinExpiredAt': 0, 'marke...   \n",
       "categories  [{'id': '4bf58dd8d48988d102941735', 'name': 'Y...   \n",
       "contact                                                    {}   \n",
       "hereNow     {'count': 0, 'summary': 'Nobody here', 'groups...   \n",
       "id                                   504b8b51e4b0838e3065d860   \n",
       "location    {'address': '1455 NW Leary Way, Suite 100', 'c...   \n",
       "name                                           CorePower Yoga   \n",
       "photos                             {'count': 0, 'groups': []}   \n",
       "stats       {'tipCount': 0, 'usersCount': 0, 'checkinsCoun...   \n",
       "venuePage                                                 NaN   \n",
       "verified                                                 True   \n",
       "\n",
       "                                                            2  \\\n",
       "_id                                  5cc21d110e067d637ac1c590   \n",
       "beenHere    {'count': 0, 'lastCheckinExpiredAt': 0, 'marke...   \n",
       "categories  [{'id': '4bf58dd8d48988d102941735', 'name': 'Y...   \n",
       "contact                                                    {}   \n",
       "hereNow     {'count': 0, 'summary': 'Nobody here', 'groups...   \n",
       "id                                   4fb449d4e4b0186ba35fff7c   \n",
       "location    {'address': '345 15th Ave E', 'crossStreet': '...   \n",
       "name                                        The Grinning Yogi   \n",
       "photos                             {'count': 0, 'groups': []}   \n",
       "stats       {'tipCount': 0, 'usersCount': 0, 'checkinsCoun...   \n",
       "venuePage                                                 NaN   \n",
       "verified                                                False   \n",
       "\n",
       "                                                            3  \\\n",
       "_id                                  5cc21d110e067d637ac1c591   \n",
       "beenHere    {'count': 0, 'lastCheckinExpiredAt': 0, 'marke...   \n",
       "categories  [{'id': '4bf58dd8d48988d102941735', 'name': 'Y...   \n",
       "contact                                                    {}   \n",
       "hereNow     {'count': 0, 'summary': 'Nobody here', 'groups...   \n",
       "id                                   4c3503d166e40f47278aca8b   \n",
       "location    {'lat': 47.793150509394636, 'lng': -122.217059...   \n",
       "name                                          Fusion Hot Yoga   \n",
       "photos                             {'count': 0, 'groups': []}   \n",
       "stats       {'tipCount': 0, 'usersCount': 0, 'checkinsCoun...   \n",
       "venuePage                                                 NaN   \n",
       "verified                                                False   \n",
       "\n",
       "                                                            4  \n",
       "_id                                  5cc21d110e067d637ac1c592  \n",
       "beenHere    {'count': 0, 'lastCheckinExpiredAt': 0, 'marke...  \n",
       "categories  [{'id': '4bf58dd8d48988d102941735', 'name': 'Y...  \n",
       "contact                                                    {}  \n",
       "hereNow     {'count': 0, 'summary': 'Nobody here', 'groups...  \n",
       "id                                   4c41e93ace54e21effc80b1a  \n",
       "location    {'address': '9750 NE 119th Way', 'lat': 47.707...  \n",
       "name                                                Bala Yoga  \n",
       "photos                             {'count': 0, 'groups': []}  \n",
       "stats       {'tipCount': 0, 'usersCount': 0, 'checkinsCoun...  \n",
       "venuePage                                                 NaN  \n",
       "verified                                                False  "
      ]
     },
     "execution_count": 44,
     "metadata": {},
     "output_type": "execute_result"
    }
   ],
   "source": [
    "df"
   ]
  },
  {
   "cell_type": "code",
   "execution_count": null,
   "metadata": {},
   "outputs": [],
   "source": []
  }
 ],
 "metadata": {
  "kernelspec": {
   "display_name": "Python 3",
   "language": "python",
   "name": "python3"
  },
  "language_info": {
   "codemirror_mode": {
    "name": "ipython",
    "version": 3
   },
   "file_extension": ".py",
   "mimetype": "text/x-python",
   "name": "python",
   "nbconvert_exporter": "python",
   "pygments_lexer": "ipython3",
   "version": "3.7.1"
  }
 },
 "nbformat": 4,
 "nbformat_minor": 2
}
