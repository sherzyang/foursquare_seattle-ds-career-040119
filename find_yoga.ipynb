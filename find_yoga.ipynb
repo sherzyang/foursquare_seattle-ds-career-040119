{
 "cells": [
  {
   "cell_type": "code",
   "execution_count": 7,
   "metadata": {},
   "outputs": [],
   "source": [
    "import json\n",
    "import requests\n",
    "\n",
    "# Load secrets from credentials.json\n",
    "url = 'https://api.foursquare.com/v2/venues/explore'\n",
    "with open('.secrets/credentials.json') as f:\n",
    "    params = json.load(f)"
   ]
  },
  {
   "cell_type": "code",
   "execution_count": 44,
   "metadata": {},
   "outputs": [],
   "source": [
    "params['v'] = '20180323'\n",
    "params['ll'] = '47.608,-122.336',\n",
    "params['query'] = 'yoga',\n",
    "params['intent'] = 'browse',\n",
    "params['radius'] = 100000,\n",
    "params['limit'] = 100"
   ]
  },
  {
   "cell_type": "code",
   "execution_count": 45,
   "metadata": {},
   "outputs": [],
   "source": [
    "response = requests.get(url=url, params=params)\n",
    "data = json.loads(response.text)"
   ]
  },
  {
   "cell_type": "code",
   "execution_count": 46,
   "metadata": {},
   "outputs": [
    {
     "data": {
      "text/plain": [
       "dict_keys(['meta', 'response'])"
      ]
     },
     "execution_count": 46,
     "metadata": {},
     "output_type": "execute_result"
    }
   ],
   "source": [
    "data.keys()"
   ]
  },
  {
   "cell_type": "code",
   "execution_count": 47,
   "metadata": {},
   "outputs": [
    {
     "data": {
      "text/plain": [
       "dict_keys(['suggestedFilters', 'headerLocation', 'headerFullLocation', 'headerLocationGranularity', 'query', 'totalResults', 'suggestedBounds', 'groups'])"
      ]
     },
     "execution_count": 47,
     "metadata": {},
     "output_type": "execute_result"
    }
   ],
   "source": [
    "data['response'].keys()"
   ]
  },
  {
   "cell_type": "code",
   "execution_count": 48,
   "metadata": {},
   "outputs": [
    {
     "data": {
      "text/plain": [
       "{'code': 200, 'requestId': '5cc217606f0aa20039e58b84'}"
      ]
     },
     "execution_count": 48,
     "metadata": {},
     "output_type": "execute_result"
    }
   ],
   "source": [
    "data['meta']"
   ]
  },
  {
   "cell_type": "code",
   "execution_count": 49,
   "metadata": {},
   "outputs": [],
   "source": [
    "results = data['response']['groups'][0]['items']"
   ]
  },
  {
   "cell_type": "code",
   "execution_count": 50,
   "metadata": {},
   "outputs": [],
   "source": [
    "venues = []\n",
    "venue_names = []\n",
    "for result in results:\n",
    "    venues.append(result['venue'])\n",
    "    venue_names.append(result['venue']['name'])"
   ]
  },
  {
   "cell_type": "code",
   "execution_count": 52,
   "metadata": {},
   "outputs": [
    {
     "data": {
      "text/plain": [
       "100"
      ]
     },
     "execution_count": 52,
     "metadata": {},
     "output_type": "execute_result"
    }
   ],
   "source": [
    "len(venues)"
   ]
  },
  {
   "cell_type": "code",
   "execution_count": 51,
   "metadata": {},
   "outputs": [
    {
     "data": {
      "text/plain": [
       "['Seattle Bouldering Project',\n",
       " 'CorePower Yoga',\n",
       " 'The Grinning Yogi',\n",
       " 'Fusion Hot Yoga',\n",
       " 'Bala Yoga',\n",
       " 'Yogalife Queen Anne',\n",
       " 'Shefayoga',\n",
       " 'Shakti Vinyasa Yoga',\n",
       " 'Bindi Yoga',\n",
       " 'Modo Yoga',\n",
       " 'Yogabliss',\n",
       " 'ProSports Club Spa',\n",
       " 'CorePower Yoga',\n",
       " 'Get Zen Hot Yoga',\n",
       " 'Live Love Flow',\n",
       " 'Bikram Yoga',\n",
       " 'Crunch - Bellevue',\n",
       " 'Bellevue Club',\n",
       " 'Foundation CrossFit',\n",
       " 'CorePower Yoga',\n",
       " 'Bikram Hot Yoga U-District',\n",
       " 'TRIBE Fitness',\n",
       " 'Hot Yoga at Mill Creek Town Center',\n",
       " 'The Ashram Yoga',\n",
       " 'Denali Fitness',\n",
       " 'YMCA',\n",
       " 'Olympic Athletic Club',\n",
       " 'Seattle Athletic Club',\n",
       " 'Pro Sports Club',\n",
       " 'Ballard Health Club',\n",
       " 'The Seattle Gym',\n",
       " 'Hot Yoga Experience',\n",
       " 'Hot Yoga Experience',\n",
       " 'Pure 8 Hot Yoga Studio',\n",
       " 'Hot Yoga Inc. - Covington',\n",
       " \"Gold's Gym\",\n",
       " 'Fitness Evolution',\n",
       " 'YMCA',\n",
       " 'Belltown Dance Studio',\n",
       " 'Hot Yoga Inc.',\n",
       " 'iLovekickboxing.com - Kirkland',\n",
       " 'YMCA',\n",
       " 'Emerald City Athletics',\n",
       " 'barre3 Bellevue',\n",
       " 'iLoveKickboxing - Lynnwood',\n",
       " '24 Hour Fitness',\n",
       " 'Kula Movement',\n",
       " 'Banya 5',\n",
       " 'Dale Turner Family YMCA',\n",
       " 'Island Fitness',\n",
       " \"Gold's Gym\",\n",
       " 'OmCulture',\n",
       " 'Elaia Spa',\n",
       " 'YMCA',\n",
       " 'Be One Yoga',\n",
       " 'Métier',\n",
       " 'Boeing, 40-201, Activity Center',\n",
       " \"Gold's Gym\",\n",
       " 'Velocity Dance Center',\n",
       " 'Soul Fitness Club',\n",
       " 'Hot Yoga of Mill Creek',\n",
       " 'LA Fitness',\n",
       " 'Vertical World Everett',\n",
       " 'DoubleTree by Hilton Fitness Center',\n",
       " '24 Hour Fitness',\n",
       " 'Ritual House',\n",
       " 'The Samarya Center',\n",
       " 'Seattle Executive Fitness',\n",
       " 'LA Fitness',\n",
       " 'LA Fitness',\n",
       " \"Soldier's Field House\",\n",
       " 'Village Green Yoga & Eco-Boutique',\n",
       " 'Seattle Holistic Center',\n",
       " 'UniverseCity Yoga',\n",
       " 'Sutra Yoga',\n",
       " 'Community Fitness',\n",
       " 'Levitas Studio',\n",
       " 'Taj Yoga',\n",
       " 'HollyYoga',\n",
       " 'Mind & Body, Inc.',\n",
       " 'Flight Room Seattle',\n",
       " 'The Six',\n",
       " 'Lux Collective',\n",
       " 'Live Love Flow',\n",
       " 'Sangha Yoga',\n",
       " 'Elements Chiropractic & Wellness Center',\n",
       " 'Yoga On Beacon',\n",
       " 'Strala Yoga',\n",
       " 'Body Reflects',\n",
       " 'Freedom Seeker Yoga',\n",
       " 'popSUP',\n",
       " 'Shift Healing Arts & Movement',\n",
       " 'Spira Power Yoga',\n",
       " 'Bala Yoga',\n",
       " 'Maven. A Yoga Studio.',\n",
       " 'Sweat Hot Yoga',\n",
       " 'Sealevel Hot Yoga',\n",
       " 'BendnMove',\n",
       " 'The Yoga Tree',\n",
       " 'Village Yoga']"
      ]
     },
     "execution_count": 51,
     "metadata": {},
     "output_type": "execute_result"
    }
   ],
   "source": [
    "venue_names"
   ]
  },
  {
   "cell_type": "code",
   "execution_count": 2,
   "metadata": {},
   "outputs": [],
   "source": [
    "import pymongo\n",
    "mc = pymongo.MongoClient()\n",
    "db = mc['foursquare']\n",
    "coll = db['pilates']"
   ]
  },
  {
   "cell_type": "code",
   "execution_count": 3,
   "metadata": {},
   "outputs": [],
   "source": [
    "venues = list(coll.find())"
   ]
  },
  {
   "cell_type": "code",
   "execution_count": null,
   "metadata": {},
   "outputs": [],
   "source": []
  },
  {
   "cell_type": "code",
   "execution_count": null,
   "metadata": {},
   "outputs": [],
   "source": [
    "coll.insert_many(venues)"
   ]
  },
  {
   "cell_type": "code",
   "execution_count": 4,
   "metadata": {},
   "outputs": [],
   "source": [
    "import pandas as pd\n",
    "df = pd.DataFrame(venues).head().T"
   ]
  },
  {
   "cell_type": "code",
   "execution_count": 5,
   "metadata": {},
   "outputs": [
    {
     "data": {
      "text/html": [
       "<div>\n",
       "<style scoped>\n",
       "    .dataframe tbody tr th:only-of-type {\n",
       "        vertical-align: middle;\n",
       "    }\n",
       "\n",
       "    .dataframe tbody tr th {\n",
       "        vertical-align: top;\n",
       "    }\n",
       "\n",
       "    .dataframe thead th {\n",
       "        text-align: right;\n",
       "    }\n",
       "</style>\n",
       "<table border=\"1\" class=\"dataframe\">\n",
       "  <thead>\n",
       "    <tr style=\"text-align: right;\">\n",
       "      <th></th>\n",
       "      <th>0</th>\n",
       "      <th>1</th>\n",
       "      <th>2</th>\n",
       "      <th>3</th>\n",
       "      <th>4</th>\n",
       "    </tr>\n",
       "  </thead>\n",
       "  <tbody>\n",
       "    <tr>\n",
       "      <th>_id</th>\n",
       "      <td>5cc215649282a4c413949195</td>\n",
       "      <td>5cc215649282a4c413949196</td>\n",
       "      <td>5cc215649282a4c413949197</td>\n",
       "      <td>5cc215649282a4c413949198</td>\n",
       "      <td>5cc215649282a4c413949199</td>\n",
       "    </tr>\n",
       "    <tr>\n",
       "      <th>beenHere</th>\n",
       "      <td>{'count': 0, 'lastCheckinExpiredAt': 0, 'marke...</td>\n",
       "      <td>{'count': 0, 'lastCheckinExpiredAt': 0, 'marke...</td>\n",
       "      <td>{'count': 0, 'lastCheckinExpiredAt': 0, 'marke...</td>\n",
       "      <td>{'count': 0, 'lastCheckinExpiredAt': 0, 'marke...</td>\n",
       "      <td>{'count': 0, 'lastCheckinExpiredAt': 0, 'marke...</td>\n",
       "    </tr>\n",
       "    <tr>\n",
       "      <th>categories</th>\n",
       "      <td>[{'id': '4bf58dd8d48988d176941735', 'name': 'G...</td>\n",
       "      <td>[{'id': '4bf58dd8d48988d176941735', 'name': 'G...</td>\n",
       "      <td>[{'id': '4bf58dd8d48988d176941735', 'name': 'G...</td>\n",
       "      <td>[{'id': '5744ccdfe4b0c0459246b4b2', 'name': 'P...</td>\n",
       "      <td>[{'id': '5744ccdfe4b0c0459246b4b2', 'name': 'P...</td>\n",
       "    </tr>\n",
       "    <tr>\n",
       "      <th>contact</th>\n",
       "      <td>{}</td>\n",
       "      <td>{}</td>\n",
       "      <td>{}</td>\n",
       "      <td>{}</td>\n",
       "      <td>{}</td>\n",
       "    </tr>\n",
       "    <tr>\n",
       "      <th>hereNow</th>\n",
       "      <td>{'count': 0, 'summary': 'Nobody here', 'groups...</td>\n",
       "      <td>{'count': 0, 'summary': 'Nobody here', 'groups...</td>\n",
       "      <td>{'count': 1, 'summary': 'One other person is h...</td>\n",
       "      <td>{'count': 0, 'summary': 'Nobody here', 'groups...</td>\n",
       "      <td>{'count': 0, 'summary': 'Nobody here', 'groups...</td>\n",
       "    </tr>\n",
       "    <tr>\n",
       "      <th>id</th>\n",
       "      <td>4597de79f964a5207b401fe3</td>\n",
       "      <td>4a427125f964a520dea51fe3</td>\n",
       "      <td>4a8c22ecf964a520090d20e3</td>\n",
       "      <td>4e31dc941f6e313d8b66fa25</td>\n",
       "      <td>4b6aff32f964a52076eb2be3</td>\n",
       "    </tr>\n",
       "    <tr>\n",
       "      <th>location</th>\n",
       "      <td>{'address': '1325 6th Ave', 'crossStreet': 'at...</td>\n",
       "      <td>{'address': '1813 7th Ave', 'lat': 47.61400529...</td>\n",
       "      <td>{'address': '2020 Western Ave', 'lat': 47.6106...</td>\n",
       "      <td>{'address': '314 1st Ave S', 'lat': 47.5995221...</td>\n",
       "      <td>{'address': '500 E Pike St', 'lat': 47.6134092...</td>\n",
       "    </tr>\n",
       "    <tr>\n",
       "      <th>name</th>\n",
       "      <td>Washington Athletic Club</td>\n",
       "      <td>ZUM fitness</td>\n",
       "      <td>Seattle Athletic Club</td>\n",
       "      <td>Kinesia Pilates Studio</td>\n",
       "      <td>Element Pilates</td>\n",
       "    </tr>\n",
       "    <tr>\n",
       "      <th>photos</th>\n",
       "      <td>{'count': 0, 'groups': []}</td>\n",
       "      <td>{'count': 0, 'groups': []}</td>\n",
       "      <td>{'count': 0, 'groups': []}</td>\n",
       "      <td>{'count': 0, 'groups': []}</td>\n",
       "      <td>{'count': 0, 'groups': []}</td>\n",
       "    </tr>\n",
       "    <tr>\n",
       "      <th>stats</th>\n",
       "      <td>{'tipCount': 0, 'usersCount': 0, 'checkinsCoun...</td>\n",
       "      <td>{'tipCount': 0, 'usersCount': 0, 'checkinsCoun...</td>\n",
       "      <td>{'tipCount': 0, 'usersCount': 0, 'checkinsCoun...</td>\n",
       "      <td>{'tipCount': 0, 'usersCount': 0, 'checkinsCoun...</td>\n",
       "      <td>{'tipCount': 0, 'usersCount': 0, 'checkinsCoun...</td>\n",
       "    </tr>\n",
       "    <tr>\n",
       "      <th>venuePage</th>\n",
       "      <td>NaN</td>\n",
       "      <td>{'id': '63557214'}</td>\n",
       "      <td>NaN</td>\n",
       "      <td>{'id': '48823099'}</td>\n",
       "      <td>NaN</td>\n",
       "    </tr>\n",
       "    <tr>\n",
       "      <th>verified</th>\n",
       "      <td>False</td>\n",
       "      <td>True</td>\n",
       "      <td>True</td>\n",
       "      <td>True</td>\n",
       "      <td>False</td>\n",
       "    </tr>\n",
       "  </tbody>\n",
       "</table>\n",
       "</div>"
      ],
      "text/plain": [
       "                                                            0  \\\n",
       "_id                                  5cc215649282a4c413949195   \n",
       "beenHere    {'count': 0, 'lastCheckinExpiredAt': 0, 'marke...   \n",
       "categories  [{'id': '4bf58dd8d48988d176941735', 'name': 'G...   \n",
       "contact                                                    {}   \n",
       "hereNow     {'count': 0, 'summary': 'Nobody here', 'groups...   \n",
       "id                                   4597de79f964a5207b401fe3   \n",
       "location    {'address': '1325 6th Ave', 'crossStreet': 'at...   \n",
       "name                                 Washington Athletic Club   \n",
       "photos                             {'count': 0, 'groups': []}   \n",
       "stats       {'tipCount': 0, 'usersCount': 0, 'checkinsCoun...   \n",
       "venuePage                                                 NaN   \n",
       "verified                                                False   \n",
       "\n",
       "                                                            1  \\\n",
       "_id                                  5cc215649282a4c413949196   \n",
       "beenHere    {'count': 0, 'lastCheckinExpiredAt': 0, 'marke...   \n",
       "categories  [{'id': '4bf58dd8d48988d176941735', 'name': 'G...   \n",
       "contact                                                    {}   \n",
       "hereNow     {'count': 0, 'summary': 'Nobody here', 'groups...   \n",
       "id                                   4a427125f964a520dea51fe3   \n",
       "location    {'address': '1813 7th Ave', 'lat': 47.61400529...   \n",
       "name                                              ZUM fitness   \n",
       "photos                             {'count': 0, 'groups': []}   \n",
       "stats       {'tipCount': 0, 'usersCount': 0, 'checkinsCoun...   \n",
       "venuePage                                  {'id': '63557214'}   \n",
       "verified                                                 True   \n",
       "\n",
       "                                                            2  \\\n",
       "_id                                  5cc215649282a4c413949197   \n",
       "beenHere    {'count': 0, 'lastCheckinExpiredAt': 0, 'marke...   \n",
       "categories  [{'id': '4bf58dd8d48988d176941735', 'name': 'G...   \n",
       "contact                                                    {}   \n",
       "hereNow     {'count': 1, 'summary': 'One other person is h...   \n",
       "id                                   4a8c22ecf964a520090d20e3   \n",
       "location    {'address': '2020 Western Ave', 'lat': 47.6106...   \n",
       "name                                    Seattle Athletic Club   \n",
       "photos                             {'count': 0, 'groups': []}   \n",
       "stats       {'tipCount': 0, 'usersCount': 0, 'checkinsCoun...   \n",
       "venuePage                                                 NaN   \n",
       "verified                                                 True   \n",
       "\n",
       "                                                            3  \\\n",
       "_id                                  5cc215649282a4c413949198   \n",
       "beenHere    {'count': 0, 'lastCheckinExpiredAt': 0, 'marke...   \n",
       "categories  [{'id': '5744ccdfe4b0c0459246b4b2', 'name': 'P...   \n",
       "contact                                                    {}   \n",
       "hereNow     {'count': 0, 'summary': 'Nobody here', 'groups...   \n",
       "id                                   4e31dc941f6e313d8b66fa25   \n",
       "location    {'address': '314 1st Ave S', 'lat': 47.5995221...   \n",
       "name                                   Kinesia Pilates Studio   \n",
       "photos                             {'count': 0, 'groups': []}   \n",
       "stats       {'tipCount': 0, 'usersCount': 0, 'checkinsCoun...   \n",
       "venuePage                                  {'id': '48823099'}   \n",
       "verified                                                 True   \n",
       "\n",
       "                                                            4  \n",
       "_id                                  5cc215649282a4c413949199  \n",
       "beenHere    {'count': 0, 'lastCheckinExpiredAt': 0, 'marke...  \n",
       "categories  [{'id': '5744ccdfe4b0c0459246b4b2', 'name': 'P...  \n",
       "contact                                                    {}  \n",
       "hereNow     {'count': 0, 'summary': 'Nobody here', 'groups...  \n",
       "id                                   4b6aff32f964a52076eb2be3  \n",
       "location    {'address': '500 E Pike St', 'lat': 47.6134092...  \n",
       "name                                          Element Pilates  \n",
       "photos                             {'count': 0, 'groups': []}  \n",
       "stats       {'tipCount': 0, 'usersCount': 0, 'checkinsCoun...  \n",
       "venuePage                                                 NaN  \n",
       "verified                                                False  "
      ]
     },
     "execution_count": 5,
     "metadata": {},
     "output_type": "execute_result"
    }
   ],
   "source": [
    "df"
   ]
  },
  {
   "cell_type": "code",
   "execution_count": 1,
   "metadata": {},
   "outputs": [
    {
     "ename": "NameError",
     "evalue": "name 'df' is not defined",
     "output_type": "error",
     "traceback": [
      "\u001b[0;31m---------------------------------------------------------------------------\u001b[0m",
      "\u001b[0;31mNameError\u001b[0m                                 Traceback (most recent call last)",
      "\u001b[0;32m<ipython-input-1-00cf07b74dcd>\u001b[0m in \u001b[0;36m<module>\u001b[0;34m\u001b[0m\n\u001b[0;32m----> 1\u001b[0;31m \u001b[0mdf\u001b[0m\u001b[0;34m\u001b[0m\u001b[0;34m\u001b[0m\u001b[0m\n\u001b[0m",
      "\u001b[0;31mNameError\u001b[0m: name 'df' is not defined"
     ]
    }
   ],
   "source": []
  },
  {
   "cell_type": "code",
   "execution_count": null,
   "metadata": {},
   "outputs": [],
   "source": []
  }
 ],
 "metadata": {
  "kernelspec": {
   "display_name": "Python 3",
   "language": "python",
   "name": "python3"
  },
  "language_info": {
   "codemirror_mode": {
    "name": "ipython",
    "version": 3
   },
   "file_extension": ".py",
   "mimetype": "text/x-python",
   "name": "python",
   "nbconvert_exporter": "python",
   "pygments_lexer": "ipython3",
   "version": "3.7.1"
  }
 },
 "nbformat": 4,
 "nbformat_minor": 2
}
